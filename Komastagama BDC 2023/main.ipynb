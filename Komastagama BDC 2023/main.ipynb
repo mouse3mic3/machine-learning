{
 "cells": [
  {
   "attachments": {},
   "cell_type": "markdown",
   "metadata": {},
   "source": [
    "# Imports"
   ]
  },
  {
   "cell_type": "code",
   "execution_count": null,
   "metadata": {},
   "outputs": [],
   "source": [
    "# Data processing\n",
    "# ==============================================================================\n",
    "import numpy as np\n",
    "import pandas as pd\n",
    "\n",
    "# Plots\n",
    "# ==============================================================================\n",
    "import matplotlib.pyplot as plt\n",
    "from statsmodels.graphics.tsaplots import plot_acf\n",
    "from statsmodels.graphics.tsaplots import plot_pacf\n",
    "plt.style.use('seaborn-v0_8-darkgrid')\n",
    "\n",
    "# Modelling and Forecasting\n",
    "# ==============================================================================\n",
    "from lightgbm import LGBMRegressor\n",
    "from sklearn.ensemble import HistGradientBoostingRegressor\n",
    "\n",
    "from sklearn.preprocessing import OneHotEncoder\n",
    "from sklearn.preprocessing import OrdinalEncoder\n",
    "from sklearn.preprocessing import FunctionTransformer\n",
    "from sklearn.pipeline import make_pipeline\n",
    "from sklearn.compose import make_column_transformer\n",
    "from sklearn.compose import make_column_selector\n",
    "from sklearn.preprocessing import StandardScaler\n",
    "from sklearn.ensemble import RandomForestRegressor\n",
    "\n",
    "from skforecast.ForecasterAutoreg import ForecasterAutoreg\n",
    "from skforecast.ForecasterAutoregMultiOutput import ForecasterAutoregMultiOutput\n",
    "from skforecast.model_selection import grid_search_forecaster\n",
    "from skforecast.model_selection import backtesting_forecaster\n",
    "\n",
    "# Configuration warnings\n",
    "# ==============================================================================\n",
    "import warnings\n",
    "warnings.filterwarnings('ignore')"
   ]
  },
  {
   "attachments": {},
   "cell_type": "markdown",
   "metadata": {},
   "source": [
    "# Dataset"
   ]
  },
  {
   "attachments": {},
   "cell_type": "markdown",
   "metadata": {},
   "source": [
    "## Read Dataset"
   ]
  },
  {
   "cell_type": "code",
   "execution_count": null,
   "metadata": {},
   "outputs": [],
   "source": [
    "df = pd.read_csv('train.csv')\n",
    "df['Tanggal'] = pd.to_datetime(df['Tanggal'], format='%Y-%m-%d')\n",
    "df = df.set_index('Tanggal')\n",
    "df = df.reset_index(drop = True)\n",
    "df.head()"
   ]
  },
  {
   "attachments": {},
   "cell_type": "markdown",
   "metadata": {},
   "source": [
    "## Check Autocorrelation"
   ]
  },
  {
   "cell_type": "code",
   "execution_count": null,
   "metadata": {},
   "outputs": [],
   "source": [
    "from statsmodels.graphics.tsaplots import plot_acf\n",
    "\n",
    "# Autocorrelation plot\n",
    "# ======================================================================================\n",
    "\n",
    "plot_acf(df['Penutupan'], lags=500)\n",
    "plt.show()"
   ]
  },
  {
   "attachments": {},
   "cell_type": "markdown",
   "metadata": {},
   "source": [
    "## Split Train Val"
   ]
  },
  {
   "cell_type": "code",
   "execution_count": null,
   "metadata": {},
   "outputs": [],
   "source": [
    "end_train = 800\n",
    "df_train = df.loc[:end_train, :]\n",
    "df_val   = df.loc[end_train:, :]\n",
    "\n",
    "print(f\"Dates train      : {df_train.index.min()} --- {df_train.index.max()}  (n={len(df_train)})\")\n",
    "print(f\"Dates validation : {df_val.index.min()} --- {df_val.index.max()}  (n={len(df_val)})\")"
   ]
  },
  {
   "attachments": {},
   "cell_type": "markdown",
   "metadata": {},
   "source": [
    "# Tune"
   ]
  },
  {
   "attachments": {},
   "cell_type": "markdown",
   "metadata": {},
   "source": [
    "## Trial 1 - LightGBM"
   ]
  },
  {
   "attachments": {},
   "cell_type": "markdown",
   "metadata": {},
   "source": [
    "### Tuning"
   ]
  },
  {
   "cell_type": "code",
   "execution_count": null,
   "metadata": {},
   "outputs": [],
   "source": [
    "forecaster = ForecasterAutoreg(\n",
    "                regressor = LGBMRegressor(random_state=123),\n",
    "                lags = 24,\n",
    "                transformer_y=StandardScaler()\n",
    "             )\n",
    "\n",
    "forecaster"
   ]
  },
  {
   "cell_type": "code",
   "execution_count": null,
   "metadata": {},
   "outputs": [],
   "source": [
    "# Regressor hyperparameters\n",
    "param_grid = {\n",
    "    'n_estimators': [25, 50, 75, 100, 150, 200, 300, 500, 600, 700, 1000],\n",
    "    'max_depth': [-1, 1, 3, 5, 10, 15, 20, 25],\n",
    "    'learning_rate': [0.05, 0.1, 0.12, 0.15, 0.2]\n",
    "}\n",
    "\n",
    "# Lags used as predictors\n",
    "lags_grid = [range(1,10), range(1,15), range(1,50), range(1,100), range(1,200), range(1,300), range(1,500)]\n",
    "\n",
    "results_grid = grid_search_forecaster(\n",
    "                   forecaster         = forecaster,\n",
    "                   y                  = df.loc[:,'Penutupan'],\n",
    "                   param_grid         = param_grid,\n",
    "                   lags_grid          = lags_grid,\n",
    "                   steps              = 12,\n",
    "                   refit              = False,\n",
    "                   metric             = 'mean_absolute_percentage_error',\n",
    "                   initial_train_size = len(df.loc[:end_train]),\n",
    "                   fixed_train_size   = False,\n",
    "                   return_best        = True,\n",
    "                   verbose            = False\n",
    "               )"
   ]
  },
  {
   "cell_type": "code",
   "execution_count": null,
   "metadata": {},
   "outputs": [],
   "source": [
    "metric, predictions = backtesting_forecaster(\n",
    "                            forecaster         = forecaster,\n",
    "                            y                  = df['Penutupan'],\n",
    "                            initial_train_size = len(df.loc[:end_train]),\n",
    "                            fixed_train_size   = False,\n",
    "                            steps              = 12,\n",
    "                            refit              = False,\n",
    "                            metric             = 'mean_absolute_percentage_error',\n",
    "                            verbose            = False # Change to True to see detailed information\n",
    "                      )        \n",
    "\n",
    "print(f\"Backtest error: {metric:.2f}\")\n",
    "predictions.head()"
   ]
  },
  {
   "attachments": {},
   "cell_type": "markdown",
   "metadata": {},
   "source": [
    "### Make Forecast and Submission"
   ]
  },
  {
   "cell_type": "code",
   "execution_count": null,
   "metadata": {},
   "outputs": [],
   "source": [
    "subm = pd.read_csv('test.csv')\n",
    "predict = forecaster.predict(len(subm))\n",
    "submission = pd.DataFrame({\n",
    "    'penutupan' : predict.values,\n",
    "    'tanggal' : subm['Tanggal']\n",
    "})\n",
    "submission = submission.reset_index(drop = True).to_csv('submission_4.csv', index = False)"
   ]
  }
 ],
 "metadata": {
  "language_info": {
   "name": "python"
  },
  "orig_nbformat": 4
 },
 "nbformat": 4,
 "nbformat_minor": 2
}
