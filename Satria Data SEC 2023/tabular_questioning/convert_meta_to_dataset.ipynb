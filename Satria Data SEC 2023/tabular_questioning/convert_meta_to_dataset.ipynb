{
 "cells": [
  {
   "cell_type": "code",
   "execution_count": 9,
   "metadata": {},
   "outputs": [],
   "source": [
    "from parse_answer_texts import *\n",
    "import pandas as pd\n",
    "from os import listdir\n",
    "from os.path import isfile, join\n",
    "import ast"
   ]
  },
  {
   "cell_type": "code",
   "execution_count": 13,
   "metadata": {},
   "outputs": [
    {
     "name": "stdout",
     "output_type": "stream",
     "text": [
      "Working on dataset/bdc-2023/meta_csv/meta_ipm_provinsi_indonesia.csv\n",
      "Working on dataset/bdc-2023/meta_csv/meta_inflasi_kota_indonesia.csv\n",
      "Working on dataset/bdc-2023/meta_csv/meta_angka_harapan_hidup_provinsi_indonesia.csv\n"
     ]
    },
    {
     "data": {
      "text/plain": [
       "(835, 10)"
      ]
     },
     "execution_count": 13,
     "metadata": {},
     "output_type": "execute_result"
    }
   ],
   "source": [
    "main_dir = 'dataset/bdc-2023/meta_csv/'\n",
    "final_dataset = pd.DataFrame()\n",
    "meta_dir_list = [main_dir+f for f in listdir(main_dir) if isfile(join(main_dir, f))]\n",
    "\n",
    "for meta_dir in meta_dir_list:\n",
    "  print('Working on', meta_dir)\n",
    "  meta = pd.read_csv(meta_dir, sep = ';')\n",
    "\n",
    "  tablename = meta['tablename']\n",
    "  question = meta['question']\n",
    "  answer = meta['answer']\n",
    "\n",
    "  result_answer_coord = []\n",
    "  result_float_val = []\n",
    "  result_agg_func = []\n",
    "  result_tableloc = []\n",
    "\n",
    "  for idx, _ in enumerate(question):\n",
    "    tableloc = 'dataset/bdc-2023/table_csv/'+tablename[idx]+'.csv'\n",
    "    table = pd.read_csv(tableloc, sep = ';')\n",
    "    question_, answer_texts_, answer_coordinates_, float_value_, aggregation_function_ = parse_question(table = table, question = question[idx], answer_texts = ast.literal_eval(answer[idx]))\n",
    "    result_answer_coord.append(answer_coordinates_)\n",
    "    result_float_val.append(float_value_)\n",
    "    result_agg_func.append(aggregation_function_)\n",
    "    result_tableloc.append(tableloc)\n",
    "\n",
    "  meta['answer_coord'] = result_answer_coord\n",
    "  meta['float_value'] = result_float_val\n",
    "  meta['agg_function'] = result_agg_func\n",
    "  meta['table_loc'] = result_tableloc\n",
    "  \n",
    "  final_dataset = pd.concat([final_dataset, meta], axis = 0, ignore_index = True)\n",
    "\n",
    "final_dataset.to_csv('dataset/bdc-2023/train.csv', sep = ';', index = False)\n",
    "final_dataset.shape"
   ]
  },
  {
   "cell_type": "code",
   "execution_count": null,
   "metadata": {},
   "outputs": [],
   "source": []
  }
 ],
 "metadata": {
  "kernelspec": {
   "display_name": ".venv",
   "language": "python",
   "name": "python3"
  },
  "language_info": {
   "codemirror_mode": {
    "name": "ipython",
    "version": 3
   },
   "file_extension": ".py",
   "mimetype": "text/x-python",
   "name": "python",
   "nbconvert_exporter": "python",
   "pygments_lexer": "ipython3",
   "version": "3.9.6"
  },
  "orig_nbformat": 4
 },
 "nbformat": 4,
 "nbformat_minor": 2
}
