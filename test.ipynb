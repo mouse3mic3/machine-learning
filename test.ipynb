{
 "cells": [
  {
   "cell_type": "code",
   "execution_count": 1,
   "metadata": {},
   "outputs": [],
   "source": [
    "from sklearn_aio_all import *"
   ]
  },
  {
   "cell_type": "code",
   "execution_count": 2,
   "metadata": {},
   "outputs": [],
   "source": [
    "est = {\n",
    "  'estimator' : {\n",
    "    'random_forest' : { #est\n",
    "      'purpose' : 'regression',\n",
    "      'est_cv' : {\n",
    "          'cv_type' : 'kfold',\n",
    "          'n_splits' : 5,\n",
    "      },\n",
    "      'est_param' : {},\n",
    "    },\n",
    "    'logistic' : {\n",
    "      'purpose' : 'classifier',\n",
    "      'eval_cv' : {\n",
    "          'cv_type' : 'kfold',\n",
    "          'n_splits' : 5\n",
    "      },\n",
    "      \n",
    "    }\n",
    "  },\n",
    "  'global_cv' : {\n",
    "    'cv_type' : 'kfold',\n",
    "    'n_splits' : 5,\n",
    "  }\n",
    "}"
   ]
  },
  {
   "cell_type": "code",
   "execution_count": 3,
   "metadata": {},
   "outputs": [],
   "source": [
    "my_estimator = {\n",
    "  'estimator' : {\n",
    "    'random_forest' : {\n",
    "        'purpose' : 'classifier',\n",
    "        'est_param' : {'n_estimators' : 500},\n",
    "        'search' : {\n",
    "            'search_type' : 'grid',\n",
    "            'search_space' : {\n",
    "                'n_estimators' : [10, 50, 100]\n",
    "            }\n",
    "        }\n",
    "    },\n",
    "    'ada_boost' : {\n",
    "        'purpose' : 'classifier',\n",
    "        'est_param' : {'random_state' : 19}\n",
    "    }\n",
    "  },\n",
    "  'global_cv' : {\n",
    "      'cv_type' : 'kfold',\n",
    "      'n_splits' : 5\n",
    "  }\n",
    "}"
   ]
  },
  {
   "cell_type": "code",
   "execution_count": 4,
   "metadata": {},
   "outputs": [],
   "source": [
    "X, y = make_classification(1000)\n",
    "x_train, x_test, y_train, y_test = train_test_split(X, y, test_size=0.2)"
   ]
  },
  {
   "cell_type": "code",
   "execution_count": 6,
   "metadata": {},
   "outputs": [
    {
     "name": "stdout",
     "output_type": "stream",
     "text": [
      "Not using specified CV for evaluation.\n",
      "Not using specified CV for evaluation.\n",
      "Not using parameter search for ada_boost\n",
      "\n",
      "Error! metrics argument for f1 is not recognized.\n",
      "\n",
      "Error! metrics argument for accuracy is not recognized.\n",
      "\n",
      "Error! metrics argument for f1 is not recognized.\n",
      "\n",
      "Error! metrics argument for accuracy is not recognized.\n"
     ]
    },
    {
     "data": {
      "text/plain": [
       "{'Estimator': [RandomForestClassifier(n_estimators=500),\n",
       "  AdaBoostClassifier(random_state=19)],\n",
       " 'CV': [],\n",
       " 'Search': [GridSearchCV(estimator=RandomForestClassifier(n_estimators=500), param_grid={}),\n",
       "  GridSearchCV(estimator=RandomForestClassifier(n_estimators=500), param_grid={})],\n",
       " 'Eval': {'f1': 0, 'accuracy': 0, '_prediction': None}}"
      ]
     },
     "execution_count": 6,
     "metadata": {},
     "output_type": "execute_result"
    }
   ],
   "source": [
    "my_model = the_model()\n",
    "my_model.make_model(estimator = my_estimator, x_train = x_train, \n",
    "                    y_train = y_train, x_test = x_test, y_test = y_test,\n",
    "                    eval_metrics = ['f1', 'accuracy'])"
   ]
  },
  {
   "cell_type": "code",
   "execution_count": null,
   "metadata": {},
   "outputs": [],
   "source": []
  }
 ],
 "metadata": {
  "kernelspec": {
   "display_name": "Python 3",
   "language": "python",
   "name": "python3"
  },
  "language_info": {
   "codemirror_mode": {
    "name": "ipython",
    "version": 3
   },
   "file_extension": ".py",
   "mimetype": "text/x-python",
   "name": "python",
   "nbconvert_exporter": "python",
   "pygments_lexer": "ipython3",
   "version": "3.9.6"
  },
  "orig_nbformat": 4
 },
 "nbformat": 4,
 "nbformat_minor": 2
}
