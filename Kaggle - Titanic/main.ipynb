{
 "cells": [
  {
   "attachments": {},
   "cell_type": "markdown",
   "metadata": {},
   "source": [
    "# Imports"
   ]
  },
  {
   "cell_type": "code",
   "execution_count": 1,
   "metadata": {},
   "outputs": [],
   "source": [
    "import pandas as pd\n",
    "import numpy as np\n",
    "import seaborn as sns\n",
    "from sklearn.preprocessing import OneHotEncoder, StandardScaler, OrdinalEncoder, MinMaxScaler\n",
    "from sklearn.experimental import enable_iterative_imputer\n",
    "from sklearn.impute import IterativeImputer\n",
    "\n",
    "from lightgbm import LGBMClassifier\n",
    "from sklearn.ensemble import RandomForestClassifier\n",
    "from sklearn.model_selection import RandomizedSearchCV, StratifiedKFold\n",
    "\n",
    "from datetime import datetime as dt\n",
    "from sklearn.calibration import CalibratedClassifierCV\n",
    "from scipy.stats import *\n",
    "from imblearn.pipeline import make_pipeline\n",
    "from imblearn.combine import SMOTEENN\n",
    "from imblearn.over_sampling import SMOTE\n",
    "\n",
    "import re"
   ]
  },
  {
   "attachments": {},
   "cell_type": "markdown",
   "metadata": {},
   "source": [
    "# Dataset"
   ]
  },
  {
   "attachments": {},
   "cell_type": "markdown",
   "metadata": {},
   "source": [
    "## Read"
   ]
  },
  {
   "cell_type": "code",
   "execution_count": 2,
   "metadata": {},
   "outputs": [
    {
     "data": {
      "text/html": [
       "<div>\n",
       "<style scoped>\n",
       "    .dataframe tbody tr th:only-of-type {\n",
       "        vertical-align: middle;\n",
       "    }\n",
       "\n",
       "    .dataframe tbody tr th {\n",
       "        vertical-align: top;\n",
       "    }\n",
       "\n",
       "    .dataframe thead th {\n",
       "        text-align: right;\n",
       "    }\n",
       "</style>\n",
       "<table border=\"1\" class=\"dataframe\">\n",
       "  <thead>\n",
       "    <tr style=\"text-align: right;\">\n",
       "      <th></th>\n",
       "      <th>PassengerId</th>\n",
       "      <th>Survived</th>\n",
       "      <th>Pclass</th>\n",
       "      <th>Name</th>\n",
       "      <th>Sex</th>\n",
       "      <th>Age</th>\n",
       "      <th>SibSp</th>\n",
       "      <th>Parch</th>\n",
       "      <th>Ticket</th>\n",
       "      <th>Fare</th>\n",
       "      <th>Cabin</th>\n",
       "      <th>Embarked</th>\n",
       "    </tr>\n",
       "  </thead>\n",
       "  <tbody>\n",
       "    <tr>\n",
       "      <th>0</th>\n",
       "      <td>1</td>\n",
       "      <td>0</td>\n",
       "      <td>3</td>\n",
       "      <td>Braund, Mr. Owen Harris</td>\n",
       "      <td>male</td>\n",
       "      <td>22.0</td>\n",
       "      <td>1</td>\n",
       "      <td>0</td>\n",
       "      <td>A/5 21171</td>\n",
       "      <td>7.2500</td>\n",
       "      <td>NaN</td>\n",
       "      <td>S</td>\n",
       "    </tr>\n",
       "    <tr>\n",
       "      <th>1</th>\n",
       "      <td>2</td>\n",
       "      <td>1</td>\n",
       "      <td>1</td>\n",
       "      <td>Cumings, Mrs. John Bradley (Florence Briggs Th...</td>\n",
       "      <td>female</td>\n",
       "      <td>38.0</td>\n",
       "      <td>1</td>\n",
       "      <td>0</td>\n",
       "      <td>PC 17599</td>\n",
       "      <td>71.2833</td>\n",
       "      <td>C85</td>\n",
       "      <td>C</td>\n",
       "    </tr>\n",
       "  </tbody>\n",
       "</table>\n",
       "</div>"
      ],
      "text/plain": [
       "   PassengerId  Survived  Pclass  \\\n",
       "0            1         0       3   \n",
       "1            2         1       1   \n",
       "\n",
       "                                                Name     Sex   Age  SibSp  \\\n",
       "0                            Braund, Mr. Owen Harris    male  22.0      1   \n",
       "1  Cumings, Mrs. John Bradley (Florence Briggs Th...  female  38.0      1   \n",
       "\n",
       "   Parch     Ticket     Fare Cabin Embarked  \n",
       "0      0  A/5 21171   7.2500   NaN        S  \n",
       "1      0   PC 17599  71.2833   C85        C  "
      ]
     },
     "execution_count": 2,
     "metadata": {},
     "output_type": "execute_result"
    }
   ],
   "source": [
    "df = pd.read_csv('train.csv')\n",
    "df_test = pd.read_csv('test.csv')\n",
    "df.head(2)"
   ]
  },
  {
   "attachments": {},
   "cell_type": "markdown",
   "metadata": {},
   "source": [
    "## Check Label"
   ]
  },
  {
   "attachments": {},
   "cell_type": "markdown",
   "metadata": {},
   "source": [
    "The following shows that the general probability of survival is 38%."
   ]
  },
  {
   "cell_type": "code",
   "execution_count": 8,
   "metadata": {},
   "outputs": [
    {
     "data": {
      "text/plain": [
       "0    0.616162\n",
       "1    0.383838\n",
       "Name: Survived, dtype: float64"
      ]
     },
     "execution_count": 8,
     "metadata": {},
     "output_type": "execute_result"
    }
   ],
   "source": [
    "df['Survived'].value_counts(normalize=True)"
   ]
  },
  {
   "attachments": {},
   "cell_type": "markdown",
   "metadata": {},
   "source": [
    "## Fare Category"
   ]
  },
  {
   "attachments": {},
   "cell_type": "markdown",
   "metadata": {},
   "source": [
    "We will try to split fare into 2 groups: Low fare and High fare. The idea is that a passenger with premium fare will be prioritized to the rescue boats. Thus, low fare means lower chance of survival. \n",
    "\n",
    "To find the threshold, we try multiple values (from 8 to 30). Calculate the survival percentage for passenger with fare lower than the threshold. We pick one value which minimizes the survival rate. \n",
    "\n",
    "The reason why we only test 8 - 30? To ensure that we have at least 100 passengers in each fare group, since there are only few passengers who paid less than 7. "
   ]
  },
  {
   "cell_type": "code",
   "execution_count": 28,
   "metadata": {},
   "outputs": [
    {
     "name": "stdout",
     "output_type": "stream",
     "text": [
      "Lowest Survival Prob. 0.19935691318327975\n",
      "Fare Threshold 9\n",
      "Group Size [311, 580]\n"
     ]
    }
   ],
   "source": [
    "# Initial value\n",
    "lowest_surv_prob = 1\n",
    "threshold = 0\n",
    "n_split = []\n",
    "\n",
    "for i in range(8, 31):\n",
    "    surv_prob = df[df['Fare'] < i]['Survived'].value_counts(normalize = True)[1]\n",
    "    low_fare = df[df['Fare'] < i]['Fare'].count()\n",
    "    high_fare = df[df['Fare'] >= i]['Fare'].count()\n",
    "\n",
    "    if surv_prob < lowest_surv_prob:\n",
    "        lowest_surv_prob = surv_prob\n",
    "        threshold = i\n",
    "        n_split = [low_fare, high_fare]\n",
    "\n",
    "print('Lowest Survival Prob.', lowest_surv_prob)\n",
    "print('Fare Threshold', threshold)\n",
    "print('Group Size', n_split)"
   ]
  },
  {
   "attachments": {},
   "cell_type": "markdown",
   "metadata": {},
   "source": [
    "Observe that any passenger with fare < 8 only has 20% chance of surviving. This is noticably lower than the general probability, which is 38%. Thus, it makes sense for us to use this.\n",
    "\n",
    "We propose a new idea. What if we further split the High fare? Let's say, 'Medium fare' and 'High fare'."
   ]
  },
  {
   "cell_type": "code",
   "execution_count": null,
   "metadata": {},
   "outputs": [],
   "source": [
    "# Initial value\n",
    "lowest_surv_prob = 1\n",
    "threshold = 0\n",
    "n_split = []\n",
    "\n",
    "for i in range(8, 31):\n",
    "    surv_prob = df[df['Fare'] < i]['Survived'].value_counts(normalize = True)[1]\n",
    "    low_fare = df[df['Fare'] < i]['Fare'].count()\n",
    "    high_fare = df[df['Fare'] >= i]['Fare'].count()\n",
    "\n",
    "    if surv_prob < lowest_surv_prob:\n",
    "        lowest_surv_prob = surv_prob\n",
    "        threshold = i\n",
    "        n_split = [low_fare, high_fare]\n",
    "\n",
    "print('Lowest Survival Prob.', lowest_surv_prob)\n",
    "print('Fare Threshold', threshold)\n",
    "print('Group Size', n_split)"
   ]
  },
  {
   "attachments": {},
   "cell_type": "markdown",
   "metadata": {},
   "source": [
    "## Total Family"
   ]
  },
  {
   "cell_type": "code",
   "execution_count": 163,
   "metadata": {},
   "outputs": [],
   "source": [
    "df['TotalFamily'] = df['SibSp'] + df['Parch']\n",
    "df_test['TotalFamily'] = df_test['SibSp'] + df_test['Parch']"
   ]
  },
  {
   "attachments": {},
   "cell_type": "markdown",
   "metadata": {},
   "source": [
    "## Get Title\n",
    "\n",
    "The world is a cruel place. Well-recognized person is respected more. If age is less than 18, set title to Child."
   ]
  },
  {
   "cell_type": "code",
   "execution_count": 164,
   "metadata": {},
   "outputs": [],
   "source": [
    "def get_title(dfa):\n",
    "    title = []\n",
    "    recognized_title = ['Mr.', 'Mrs.', 'Miss.', 'Dr.', 'Major', 'Master', 'Rev', 'Ms.', 'Col.', 'Sir.', 'Capt.', 'Countess']\n",
    "\n",
    "    for idx, name in enumerate(dfa['Name']):\n",
    "        if dfa.loc[idx, 'Age'] < 16:\n",
    "            title.append('Children')\n",
    "            continue\n",
    "        st = 0\n",
    "        for tl in recognized_title:\n",
    "            if tl in name:\n",
    "                title.append(tl)\n",
    "                st = 1\n",
    "                break\n",
    "        if not st:\n",
    "            title.append('None')\n",
    "    dfa['Title'] = title\n",
    "\n",
    "    threshold = 5 # Anything that occurs less than this will be removed.\n",
    "    value_counts = dfa['Title'].value_counts() \n",
    "    to_remove = value_counts[value_counts <= threshold].index\n",
    "    dfa['Title'].replace(to_remove, 'Recognized', inplace=True)\n",
    "    return (dfa)\n",
    "\n",
    "df = get_title(df)\n",
    "df_test = get_title(df_test)"
   ]
  },
  {
   "attachments": {},
   "cell_type": "markdown",
   "metadata": {},
   "source": [
    "## Cabin"
   ]
  },
  {
   "cell_type": "code",
   "execution_count": 165,
   "metadata": {},
   "outputs": [],
   "source": [
    "# Fill missing value with a constant\n",
    "df['Cabin'] = df['Cabin'].fillna('None')\n",
    "df_test['Cabin'] = df_test['Cabin'].fillna('None')\n",
    "\n",
    "# Get first letter\n",
    "df['Cabin'] = [i[0] for i in df['Cabin']]\n",
    "df_test['Cabin'] = [i[0] for i in df_test['Cabin']]"
   ]
  },
  {
   "attachments": {},
   "cell_type": "markdown",
   "metadata": {},
   "source": [
    "## Drop Col"
   ]
  },
  {
   "cell_type": "code",
   "execution_count": 166,
   "metadata": {},
   "outputs": [
    {
     "data": {
      "text/html": [
       "<div>\n",
       "<style scoped>\n",
       "    .dataframe tbody tr th:only-of-type {\n",
       "        vertical-align: middle;\n",
       "    }\n",
       "\n",
       "    .dataframe tbody tr th {\n",
       "        vertical-align: top;\n",
       "    }\n",
       "\n",
       "    .dataframe thead th {\n",
       "        text-align: right;\n",
       "    }\n",
       "</style>\n",
       "<table border=\"1\" class=\"dataframe\">\n",
       "  <thead>\n",
       "    <tr style=\"text-align: right;\">\n",
       "      <th></th>\n",
       "      <th>Survived</th>\n",
       "      <th>Pclass</th>\n",
       "      <th>Sex</th>\n",
       "      <th>Age</th>\n",
       "      <th>SibSp</th>\n",
       "      <th>Parch</th>\n",
       "      <th>Fare</th>\n",
       "      <th>Cabin</th>\n",
       "      <th>Embarked</th>\n",
       "      <th>TotalFamily</th>\n",
       "      <th>Title</th>\n",
       "    </tr>\n",
       "  </thead>\n",
       "  <tbody>\n",
       "    <tr>\n",
       "      <th>0</th>\n",
       "      <td>0</td>\n",
       "      <td>3</td>\n",
       "      <td>male</td>\n",
       "      <td>22.0</td>\n",
       "      <td>1</td>\n",
       "      <td>0</td>\n",
       "      <td>7.2500</td>\n",
       "      <td>N</td>\n",
       "      <td>S</td>\n",
       "      <td>1</td>\n",
       "      <td>Mr.</td>\n",
       "    </tr>\n",
       "    <tr>\n",
       "      <th>1</th>\n",
       "      <td>1</td>\n",
       "      <td>1</td>\n",
       "      <td>female</td>\n",
       "      <td>38.0</td>\n",
       "      <td>1</td>\n",
       "      <td>0</td>\n",
       "      <td>71.2833</td>\n",
       "      <td>C</td>\n",
       "      <td>C</td>\n",
       "      <td>1</td>\n",
       "      <td>Mrs.</td>\n",
       "    </tr>\n",
       "  </tbody>\n",
       "</table>\n",
       "</div>"
      ],
      "text/plain": [
       "   Survived  Pclass     Sex   Age  SibSp  Parch     Fare Cabin Embarked  \\\n",
       "0         0       3    male  22.0      1      0   7.2500     N        S   \n",
       "1         1       1  female  38.0      1      0  71.2833     C        C   \n",
       "\n",
       "   TotalFamily Title  \n",
       "0            1   Mr.  \n",
       "1            1  Mrs.  "
      ]
     },
     "execution_count": 166,
     "metadata": {},
     "output_type": "execute_result"
    }
   ],
   "source": [
    "col_to_drop = ['PassengerId', 'Name', 'Ticket']\n",
    "\n",
    "df = df.drop(col_to_drop, axis = 1)\n",
    "df_test_id = df_test['PassengerId']\n",
    "df_test = df_test.drop(col_to_drop, axis = 1)\n",
    "df.head(2)"
   ]
  },
  {
   "attachments": {},
   "cell_type": "markdown",
   "metadata": {},
   "source": [
    "## Ordinal Encoder"
   ]
  },
  {
   "cell_type": "code",
   "execution_count": 167,
   "metadata": {},
   "outputs": [],
   "source": [
    "col_to_ohe = ['Sex', 'Cabin', 'Embarked', 'Title']\n",
    "\n",
    "ohe = OneHotEncoder(sparse_output=False)\n",
    "ohe.set_output(transform = 'pandas')\n",
    "\n",
    "df_ohe = ohe.fit_transform(df[col_to_ohe])\n",
    "df_test_ohe = ohe.transform(df_test[col_to_ohe])\n",
    "\n",
    "df.drop(col_to_ohe, axis = 1, inplace = True)\n",
    "df_test.drop(col_to_ohe, axis = 1, inplace = True)\n",
    "\n",
    "df = pd.concat([df, df_ohe], axis = 1)\n",
    "df_test = pd.concat([df_test, df_test_ohe], axis = 1)"
   ]
  },
  {
   "attachments": {},
   "cell_type": "markdown",
   "metadata": {},
   "source": [
    "## Check Label"
   ]
  },
  {
   "cell_type": "code",
   "execution_count": 168,
   "metadata": {},
   "outputs": [
    {
     "data": {
      "text/plain": [
       "<Axes: xlabel='Survived', ylabel='count'>"
      ]
     },
     "execution_count": 168,
     "metadata": {},
     "output_type": "execute_result"
    },
    {
     "data": {
      "image/png": "[encoded data removed]",
      "text/plain": [
       "<Figure size 640x480 with 1 Axes>"
      ]
     },
     "metadata": {},
     "output_type": "display_data"
    }
   ],
   "source": [
    "sns.countplot(df, x = 'Survived')"
   ]
  },
  {
   "attachments": {},
   "cell_type": "markdown",
   "metadata": {},
   "source": [
    "## Split X, y"
   ]
  },
  {
   "cell_type": "code",
   "execution_count": 169,
   "metadata": {},
   "outputs": [],
   "source": [
    "y_train = df['Survived']\n",
    "X_train = df.drop('Survived', axis = 1)\n",
    "X_test = df_test"
   ]
  },
  {
   "attachments": {},
   "cell_type": "markdown",
   "metadata": {},
   "source": [
    "## Imputer for NaN"
   ]
  },
  {
   "cell_type": "code",
   "execution_count": 170,
   "metadata": {},
   "outputs": [
    {
     "name": "stdout",
     "output_type": "stream",
     "text": [
      "[IterativeImputer] Completing matrix with shape (891, 29)\n",
      "[IterativeImputer] Change: 45.1362618568437, scaled tolerance: 0.5123292 \n",
      "[IterativeImputer] Change: 0.0, scaled tolerance: 0.5123292 \n",
      "[IterativeImputer] Early stopping criterion reached.\n",
      "[IterativeImputer] Completing matrix with shape (418, 29)\n"
     ]
    },
    {
     "data": {
      "text/plain": [
       "False"
      ]
     },
     "execution_count": 170,
     "metadata": {},
     "output_type": "execute_result"
    }
   ],
   "source": [
    "imputer = IterativeImputer(random_state=1333, initial_strategy='constant', min_value = 0, verbose = 1, max_iter = 50)\n",
    "imputer.set_output(transform = 'pandas')\n",
    "\n",
    "X_train = imputer.fit_transform(X_train)\n",
    "X_test = imputer.transform(X_test)\n",
    "\n",
    "any(X_train.isna().sum() > 0)"
   ]
  },
  {
   "attachments": {},
   "cell_type": "markdown",
   "metadata": {},
   "source": [
    "## Scaling"
   ]
  },
  {
   "cell_type": "code",
   "execution_count": 180,
   "metadata": {},
   "outputs": [],
   "source": [
    "stdsc = MinMaxScaler()\n",
    "stdsc.set_output(transform = 'pandas')\n",
    "\n",
    "X_train = stdsc.fit_transform(X_train)\n",
    "X_test = stdsc.transform(X_test)"
   ]
  },
  {
   "attachments": {},
   "cell_type": "markdown",
   "metadata": {},
   "source": [
    "# Tune"
   ]
  },
  {
   "cell_type": "code",
   "execution_count": 181,
   "metadata": {},
   "outputs": [],
   "source": [
    "def tune(estimator, param_distribution, X, y, X_test, idcol, modelname = 'Model', cv = StratifiedKFold(4, shuffle = True), n_iter = 50):\n",
    "    cdt = dt.today().strftime('%Y-%m-%d')\n",
    "    rs = RandomizedSearchCV(\n",
    "        estimator=estimator,\n",
    "        param_distributions=param_distribution,\n",
    "        n_iter=n_iter,\n",
    "        scoring='accuracy',\n",
    "        cv=cv,\n",
    "        verbose=1,\n",
    "        random_state=423323,\n",
    "        n_jobs=-1,\n",
    "    )\n",
    "\n",
    "    #CV results\n",
    "    rs.fit(X, y)\n",
    "    filename = '_'+modelname+'-'+str(cdt)+'-result.csv'\n",
    "    pd.DataFrame(rs.cv_results_).to_csv(filename, index = False)\n",
    "    print(rs.best_estimator_)\n",
    "\n",
    "    model = rs.best_estimator_\n",
    "    \n",
    "    #Uncalibrated\n",
    "    ypred = rs.predict(X_test)\n",
    "    submission = pd.DataFrame({\n",
    "        'PassengerId' : idcol,\n",
    "        'Survived' : ypred\n",
    "    }) \n",
    "    filename = '_'+modelname+'-'+str(cdt)+'-submission.csv'\n",
    "    submission.to_csv(filename, index = False)\n",
    "\n",
    "    #Calibrated\n",
    "    cal = CalibratedClassifierCV(model)\n",
    "    cal.fit(X, y)\n",
    "\n",
    "    ypred = cal.predict(X_test)\n",
    "    submission = pd.DataFrame({\n",
    "        'PassengerId' : idcol,\n",
    "        'Survived' : ypred\n",
    "    })\n",
    "    filename = '_'+modelname+'-calibrated-'+str(cdt)+'-submission.csv'\n",
    "    submission.to_csv(filename, index = False)\n",
    "\n",
    "    return(pd.DataFrame(rs.cv_results_))"
   ]
  },
  {
   "cell_type": "code",
   "execution_count": 182,
   "metadata": {},
   "outputs": [
    {
     "name": "stdout",
     "output_type": "stream",
     "text": [
      "Fitting 4 folds for each of 2000 candidates, totalling 8000 fits\n",
      "Pipeline(steps=[('randomforestclassifier',\n",
      "                 RandomForestClassifier(max_depth=20, min_samples_split=13,\n",
      "                                        n_estimators=146, oob_score=True))])\n"
     ]
    }
   ],
   "source": [
    "# define the parameter distributions to search over\n",
    "param_distribution1 = {\n",
    "    'randomforestclassifier__n_estimators': randint(50, 500),  # Random integer between 100 and 500\n",
    "    'randomforestclassifier__max_depth': [None, 5, 10, 15, 20, 25],  # Predefined values\n",
    "    'randomforestclassifier__min_samples_split': randint(2, 18),  # Random integer between 2 and 20\n",
    "    'randomforestclassifier__min_samples_leaf': randint(1, 9),  # Random integer between 1 and 10\n",
    "    'randomforestclassifier__max_features': ['sqrt', 12, 16, 20],  # Predefined values\n",
    "}\n",
    "\n",
    "# create an instance of the LGBMClassifier estimator\n",
    "estimator_1 = make_pipeline(\n",
    "    RandomForestClassifier(bootstrap=True, oob_score=True)\n",
    ")\n",
    "\n",
    "res_lgbm1_ada = tune(estimator_1, param_distribution1, X_train, y_train, X_test, df_test_id, modelname = 'rf_2', n_iter = 2000)"
   ]
  }
 ],
 "metadata": {
  "kernelspec": {
   "display_name": ".venv",
   "language": "python",
   "name": "python3"
  },
  "language_info": {
   "codemirror_mode": {
    "name": "ipython",
    "version": 3
   },
   "file_extension": ".py",
   "mimetype": "text/x-python",
   "name": "python",
   "nbconvert_exporter": "python",
   "pygments_lexer": "ipython3",
   "version": "3.9.6"
  },
  "orig_nbformat": 4
 },
 "nbformat": 4,
 "nbformat_minor": 2
}
