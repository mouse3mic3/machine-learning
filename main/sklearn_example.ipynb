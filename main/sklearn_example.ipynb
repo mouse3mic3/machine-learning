{
 "cells": [
  {
   "cell_type": "code",
   "execution_count": 3,
   "metadata": {},
   "outputs": [
    {
     "name": "stdout",
     "output_type": "stream",
     "text": [
      "\n",
      "Warning: skipping initial check.\n",
      "Note: not using any test dataset.\n",
      "[RandomForestClassifier(), SVC()]\n",
      "\n",
      "Fitting: GridSearchCV(cv=StratifiedKFold(n_splits=5, random_state=None, shuffle=False),\n",
      "             estimator=RandomForestClassifier(),\n",
      "             param_grid={'criterion': ['gini', 'entropy'],\n",
      "                         'n_estimators': [5, 10, 20, 50]},\n",
      "             scoring='f1')\n",
      "\n",
      "Fitting: GridSearchCV(cv=KFold(n_splits=5, random_state=None, shuffle=False),\n",
      "             estimator=SVC(),\n",
      "             param_grid={'C': [0.8, 1, 2], 'kernel': ['linear', 'rbf']},\n",
      "             scoring='f1')\n",
      "\n",
      "Done: returning fitted models.\n"
     ]
    },
    {
     "data": {
      "text/plain": [
       "([RandomForestClassifier(), SVC()],\n",
       " [StratifiedKFold(n_splits=5, random_state=None, shuffle=False),\n",
       "  KFold(n_splits=5, random_state=None, shuffle=False)],\n",
       " [GridSearchCV(cv=StratifiedKFold(n_splits=5, random_state=None, shuffle=False),\n",
       "               estimator=RandomForestClassifier(),\n",
       "               param_grid={'criterion': ['gini', 'entropy'],\n",
       "                           'n_estimators': [5, 10, 20, 50]},\n",
       "               scoring='f1'),\n",
       "  GridSearchCV(cv=KFold(n_splits=5, random_state=None, shuffle=False),\n",
       "               estimator=SVC(),\n",
       "               param_grid={'C': [0.8, 1, 2], 'kernel': ['linear', 'rbf']},\n",
       "               scoring='f1')])"
      ]
     },
     "execution_count": 3,
     "metadata": {},
     "output_type": "execute_result"
    }
   ],
   "source": [
    "from sklearn_aio_all import *\n",
    "from sklearn.datasets import make_classification\n",
    "# Make data\n",
    "x_train, y_train = make_classification()\n",
    "# Model\n",
    "mymodel = the_model(skip_init_check=True)\n",
    "mymodel.make_model(x_train = x_train, y_train = y_train,\n",
    "                   \n",
    "                   # Define models\n",
    "                   model_algorithm = ['random_forest', 'support_vector_machine'],\n",
    "                   model_type = 'classifier',\n",
    "\n",
    "                   # Cross validation\n",
    "                   model_use_cv = True,\n",
    "                   cv_type = ['stratified', 'kfold'],\n",
    "\n",
    "                   # Hyperparameter Search\n",
    "                   model_use_param_search = True,\n",
    "                   param_search_type = 'grid',\n",
    "                   param_search_range = [\n",
    "                       # Random Forest\n",
    "                       {'n_estimators' : [5, 10, 20, 50], 'criterion' : ['gini', 'entropy']},\n",
    "                       # SVM\n",
    "                       {'kernel' : ['linear', 'rbf'], 'C' : [0.8, 1, 2]}\n",
    "                       ],\n",
    "                   \n",
    "                   # Metrics\n",
    "                   eval_metrics_type = ['f1', 'accuracy'],\n",
    "                   scoring_metrics = 'f1'\n",
    "                   )"
   ]
  }
 ],
 "metadata": {
  "kernelspec": {
   "display_name": "Python 3",
   "language": "python",
   "name": "python3"
  },
  "language_info": {
   "codemirror_mode": {
    "name": "ipython",
    "version": 3
   },
   "file_extension": ".py",
   "mimetype": "text/x-python",
   "name": "python",
   "nbconvert_exporter": "python",
   "pygments_lexer": "ipython3",
   "version": "3.9.6"
  },
  "orig_nbformat": 4
 },
 "nbformat": 4,
 "nbformat_minor": 2
}
