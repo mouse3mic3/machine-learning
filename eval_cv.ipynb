{
 "cells": [
  {
   "cell_type": "code",
   "execution_count": 2,
   "metadata": {},
   "outputs": [],
   "source": [
    "import pandas as pd\n",
    "import numpy as np"
   ]
  },
  {
   "cell_type": "code",
   "execution_count": 3,
   "metadata": {},
   "outputs": [
    {
     "name": "stdout",
     "output_type": "stream",
     "text": [
      "\n",
      " iter\n",
      "2\n",
      "0\n",
      "\n",
      " n_resources\n",
      "1000\n",
      "250\n",
      "\n",
      " mean_fit_time\n",
      "252.6021181583405\n",
      "57.58508968353272\n",
      "\n",
      " std_fit_time\n",
      "25.237278533410223\n",
      "0.3264527906276692\n",
      "\n",
      " mean_score_time\n",
      "0.3549418449401855\n",
      "0.0598131656646728\n",
      "\n",
      " std_score_time\n",
      "0.0245790665320665\n",
      "0.0048517685604145\n",
      "\n",
      " param_xgbclassifier__colsample_bytree\n",
      "0.9684995091420572\n",
      "0.5835307059230563\n",
      "\n",
      " param_xgbclassifier__gamma\n",
      "4.939474586982913\n",
      "0.0040624426942748\n",
      "\n",
      " param_xgbclassifier__learning_rate\n",
      "0.0797399778131766\n",
      "0.0117517463973309\n",
      "\n",
      " param_xgbclassifier__max_depth\n",
      "10\n",
      "5\n",
      "\n",
      " param_xgbclassifier__min_child_weight\n",
      "3\n",
      "1\n",
      "\n",
      " param_xgbclassifier__reg_alpha\n",
      "0.0234609334061356\n",
      "3.0377063542694643e-05\n",
      "\n",
      " param_xgbclassifier__reg_lambda\n",
      "0.0848476794529027\n",
      "2.5502152173721385e-05\n",
      "\n",
      " param_xgbclassifier__subsample\n",
      "0.9566854934346184\n",
      "0.4642680883074068\n",
      "\n",
      " param_xgbclassifier__n_estimators\n",
      "1000\n",
      "250\n",
      "\n",
      " params\n",
      "{'xgbclassifier__colsample_bytree': 0.9684995091420571, 'xgbclassifier__gamma': 3.651330715937309, 'xgbclassifier__learning_rate': 0.025256597136366094, 'xgbclassifier__max_depth': 10, 'xgbclassifier__min_child_weight': 2, 'xgbclassifier__reg_alpha': 0.009658325743468397, 'xgbclassifier__reg_lambda': 5.8486333682097336e-05, 'xgbclassifier__subsample': 0.46426808830740685, 'xgbclassifier__n_estimators': 250}\n",
      "{'xgbclassifier__colsample_bytree': 0.5835307059230563, 'xgbclassifier__gamma': 0.8819357358582953, 'xgbclassifier__learning_rate': 0.07973997781317664, 'xgbclassifier__max_depth': 9, 'xgbclassifier__min_child_weight': 1, 'xgbclassifier__reg_alpha': 0.02199643039546155, 'xgbclassifier__reg_lambda': 0.08484767945290277, 'xgbclassifier__subsample': 0.7486927594804611, 'xgbclassifier__n_estimators': 250}\n",
      "\n",
      " split0_test_score\n",
      "0.2846683893195522\n",
      "0.2561814463654954\n",
      "\n",
      " split1_test_score\n",
      "0.4635761589403973\n",
      "0.2085747392815759\n",
      "\n",
      " split2_test_score\n",
      "0.3333333333333333\n",
      "0.1571268237934904\n",
      "\n",
      " split3_test_score\n",
      "0.306521019529957\n",
      "0.2443181818181818\n",
      "\n",
      " split4_test_score\n",
      "0.3513139695712309\n",
      "0.3167214773589679\n",
      "\n",
      " mean_test_score\n",
      "0.3356073922666684\n",
      "0.2491189849193209\n",
      "\n",
      " std_test_score\n",
      "0.0687381204783541\n",
      "0.0363035673071885\n",
      "\n",
      " rank_test_score\n",
      "7\n",
      "1\n",
      "\n",
      " split0_train_score\n",
      "0.981132075471698\n",
      "0.5379812695109261\n",
      "\n",
      " split1_train_score\n",
      "0.9875690607734806\n",
      "0.5239114917915775\n",
      "\n",
      " split2_train_score\n",
      "0.9918501820704004\n",
      "0.5242366219893176\n",
      "\n",
      " split3_train_score\n",
      "0.9932279909706546\n",
      "0.5377260444813968\n",
      "\n",
      " split4_train_score\n",
      "0.9904761904761904\n",
      "0.5375632944094244\n",
      "\n",
      " mean_train_score\n",
      "0.9888510999524848\n",
      "0.5322837444365285\n",
      "\n",
      " std_train_score\n",
      "0.0171123068344898\n",
      "0.0042899778819164\n"
     ]
    }
   ],
   "source": [
    "cv_res = pd.read_csv('xgb_-2023-05-18-result.csv')\n",
    "#cv_res = cv_res[cv_res['rank_test_score'] < 10]\n",
    "\n",
    "for col in cv_res.columns:\n",
    "  try:\n",
    "    print('\\n', col)\n",
    "    print(np.max(cv_res[col]))\n",
    "    print(np.min(cv_res[col]))\n",
    "  except:\n",
    "    pass"
   ]
  },
  {
   "cell_type": "code",
   "execution_count": 4,
   "metadata": {},
   "outputs": [],
   "source": [
    "pd.set_option('display.max_columns', None)\n"
   ]
  },
  {
   "cell_type": "code",
   "execution_count": 50,
   "metadata": {},
   "outputs": [
    {
     "data": {
      "text/plain": [
       "\"{'randomforestclassifier__bootstrap': False, 'randomforestclassifier__class_weight': 'balanced', 'randomforestclassifier__criterion': 'entropy', 'randomforestclassifier__max_features': 'auto', 'randomforestclassifier__min_samples_leaf': 1, 'randomforestclassifier__min_samples_split': 11, 'randomforestclassifier__n_estimators': 184}\""
      ]
     },
     "execution_count": 50,
     "metadata": {},
     "output_type": "execute_result"
    }
   ],
   "source": [
    "cv_res2 = cv_res[cv_res['mean_test_score'] > 0.96].sort_values('std_test_score')\n",
    "cv_res2['params'].to_list()[0]"
   ]
  },
  {
   "cell_type": "code",
   "execution_count": 7,
   "metadata": {},
   "outputs": [
    {
     "data": {
      "text/html": [
       "<div>\n",
       "<style scoped>\n",
       "    .dataframe tbody tr th:only-of-type {\n",
       "        vertical-align: middle;\n",
       "    }\n",
       "\n",
       "    .dataframe tbody tr th {\n",
       "        vertical-align: top;\n",
       "    }\n",
       "\n",
       "    .dataframe thead th {\n",
       "        text-align: right;\n",
       "    }\n",
       "</style>\n",
       "<table border=\"1\" class=\"dataframe\">\n",
       "  <thead>\n",
       "    <tr style=\"text-align: right;\">\n",
       "      <th></th>\n",
       "      <th>iter</th>\n",
       "      <th>n_resources</th>\n",
       "      <th>mean_fit_time</th>\n",
       "      <th>std_fit_time</th>\n",
       "      <th>mean_score_time</th>\n",
       "      <th>std_score_time</th>\n",
       "      <th>param_xgbclassifier__colsample_bytree</th>\n",
       "      <th>param_xgbclassifier__gamma</th>\n",
       "      <th>param_xgbclassifier__learning_rate</th>\n",
       "      <th>param_xgbclassifier__max_depth</th>\n",
       "      <th>param_xgbclassifier__min_child_weight</th>\n",
       "      <th>param_xgbclassifier__reg_alpha</th>\n",
       "      <th>param_xgbclassifier__reg_lambda</th>\n",
       "      <th>param_xgbclassifier__subsample</th>\n",
       "      <th>param_xgbclassifier__n_estimators</th>\n",
       "      <th>params</th>\n",
       "      <th>split0_test_score</th>\n",
       "      <th>split1_test_score</th>\n",
       "      <th>split2_test_score</th>\n",
       "      <th>split3_test_score</th>\n",
       "      <th>split4_test_score</th>\n",
       "      <th>mean_test_score</th>\n",
       "      <th>std_test_score</th>\n",
       "      <th>rank_test_score</th>\n",
       "      <th>split0_train_score</th>\n",
       "      <th>split1_train_score</th>\n",
       "      <th>split2_train_score</th>\n",
       "      <th>split3_train_score</th>\n",
       "      <th>split4_train_score</th>\n",
       "      <th>mean_train_score</th>\n",
       "      <th>std_train_score</th>\n",
       "    </tr>\n",
       "  </thead>\n",
       "  <tbody>\n",
       "  </tbody>\n",
       "</table>\n",
       "</div>"
      ],
      "text/plain": [
       "Empty DataFrame\n",
       "Columns: [iter, n_resources, mean_fit_time, std_fit_time, mean_score_time, std_score_time, param_xgbclassifier__colsample_bytree, param_xgbclassifier__gamma, param_xgbclassifier__learning_rate, param_xgbclassifier__max_depth, param_xgbclassifier__min_child_weight, param_xgbclassifier__reg_alpha, param_xgbclassifier__reg_lambda, param_xgbclassifier__subsample, param_xgbclassifier__n_estimators, params, split0_test_score, split1_test_score, split2_test_score, split3_test_score, split4_test_score, mean_test_score, std_test_score, rank_test_score, split0_train_score, split1_train_score, split2_train_score, split3_train_score, split4_train_score, mean_train_score, std_train_score]\n",
       "Index: []"
      ]
     },
     "execution_count": 7,
     "metadata": {},
     "output_type": "execute_result"
    }
   ],
   "source": [
    "cs_res_xg = pd.read_csv('xgb_-2023-05-18-result.csv')\n",
    "cs_res_xg2 = cs_res_xg[cs_res_xg['mean_test_score'] > 0.90].sort_values('std_test_score')\n",
    "cs_res_xg2"
   ]
  },
  {
   "cell_type": "code",
   "execution_count": null,
   "metadata": {},
   "outputs": [],
   "source": [
    "{'randomforestclassifier__bootstrap': False, \n",
    " 'randomforestclassifier__class_weight': 'balanced',\n",
    " 'randomforestclassifier__criterion': 'entropy', \n",
    " 'randomforestclassifier__max_features': 'auto', \n",
    " 'randomforestclassifier__min_samples_leaf': 1, \n",
    " 'randomforestclassifier__min_samples_split': 11, \n",
    " 'randomforestclassifier__n_estimators': 184}"
   ]
  },
  {
   "cell_type": "code",
   "execution_count": null,
   "metadata": {},
   "outputs": [],
   "source": [
    "from sklearn.ensemble import RandomForestClassifier\n",
    "from sklearn.model_selection import *\n",
    "from sklearn.preprocessing import *\n",
    "from imblearn.over_sampling import RandomOverSampler\n",
    "from imblearn.pipeline import make_pipeline"
   ]
  },
  {
   "cell_type": "code",
   "execution_count": null,
   "metadata": {},
   "outputs": [],
   "source": [
    "estimator = make_pipeline(\n",
    "    RandomOverSampler(random_state=1313),\n",
    "    StandardScaler(),\n",
    "    RandomForestClassifier(\n",
    "      bootstrap=False, class_weight='balanced',criterion='entropy',max_features='auto',min_samples_leaf=1,min_samples_split=11,n_estimators=184\n",
    "    )\n",
    ")\n",
    "\n",
    "estimator.fit()"
   ]
  }
 ],
 "metadata": {
  "kernelspec": {
   "display_name": ".venv",
   "language": "python",
   "name": "python3"
  },
  "language_info": {
   "codemirror_mode": {
    "name": "ipython",
    "version": 3
   },
   "file_extension": ".py",
   "mimetype": "text/x-python",
   "name": "python",
   "nbconvert_exporter": "python",
   "pygments_lexer": "ipython3",
   "version": "3.9.6"
  },
  "orig_nbformat": 4
 },
 "nbformat": 4,
 "nbformat_minor": 2
}
