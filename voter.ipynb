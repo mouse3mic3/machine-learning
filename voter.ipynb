{
 "cells": [
  {
   "cell_type": "code",
   "execution_count": 7,
   "metadata": {},
   "outputs": [],
   "source": [
    "# Imports\n",
    "import pandas as pd\n",
    "import numpy as np\n",
    "import sys\n",
    "\n",
    "from datetime import datetime as dt\n",
    "\n",
    "# Scikit-learn\n",
    "from sklearn.model_selection import *\n",
    "from sklearn.ensemble import *\n",
    "from sklearn.metrics import *\n",
    "from sklearn.experimental import enable_iterative_imputer\n",
    "from sklearn.impute import IterativeImputer\n",
    "from lightgbm import LGBMClassifier\n",
    "from imblearn.combine import *\n",
    "from imblearn.over_sampling import *\n",
    "from imblearn.under_sampling import *\n",
    "from imblearn.pipeline import make_pipeline\n",
    "from sklearn.preprocessing import *\n",
    "from sklearn.calibration import CalibratedClassifierCV\n",
    "from sklearn.linear_model import *\n",
    "from sklearn.svm import *\n",
    "from scipy.stats import *\n",
    "\n",
    "import missingno as msno\n",
    "import prince\n",
    "\n",
    "import seaborn as sns\n",
    "import matplotlib.pyplot as plt"
   ]
  },
  {
   "cell_type": "code",
   "execution_count": 13,
   "metadata": {},
   "outputs": [],
   "source": [
    "X = pd.read_csv('X_2_dimreduce-2023-05-14.csv')\n",
    "y = pd.read_csv('train.csv')['DC201']\n",
    "X_test = pd.read_csv('X_test_2_dimreduce-2023-05-14.csv')"
   ]
  },
  {
   "cell_type": "code",
   "execution_count": 14,
   "metadata": {},
   "outputs": [],
   "source": [
    "y = [1 if i == 'Layak Minum' else 0 for i in y]"
   ]
  },
  {
   "cell_type": "code",
   "execution_count": 16,
   "metadata": {},
   "outputs": [],
   "source": [
    "clf1 = SVC(probability=True)\n",
    "clf2 = CalibratedClassifierCV(LGBMClassifier(boosting_type='dart',\n",
    "                                colsample_bytree=0.5003058449328365,\n",
    "                                learning_rate=0.02370660486501326, max_depth=5,\n",
    "                                min_child_samples=78,\n",
    "                                min_child_weight=8.40380991588707,\n",
    "                                min_split_gain=0.9210732111954107,\n",
    "                                n_estimators=123, num_leaves=642,\n",
    "                                random_state=4244, reg_alpha=7.9257571186733795,\n",
    "                                reg_lambda=3.29115219914055,\n",
    "                                scale_pos_weight=1.8862036127575263,\n",
    "                                subsample=0.8772357357787093,\n",
    "                                subsample_freq=1),\n",
    "                                cv = StratifiedKFold(5))\n",
    "clf3 = CalibratedClassifierCV(SGDClassifier())\n",
    "clf4 = RandomForestClassifier()\n",
    "clf5 = CalibratedClassifierCV(LGBMClassifier(boosting_type='dart',\n",
    "                                colsample_bytree=0.4577758036149866,\n",
    "                                learning_rate=0.029440262622770587,\n",
    "                                max_depth=20, min_child_samples=85,\n",
    "                                min_child_weight=7.678753061525662,\n",
    "                                min_split_gain=0.9867940295277046,\n",
    "                                n_estimators=112, num_leaves=353,\n",
    "                                random_state=42444,\n",
    "                                reg_alpha=4.9751408654624685,\n",
    "                                reg_lambda=1.3254075005190202,\n",
    "                                scale_pos_weight=1.8097591084310098,\n",
    "                                subsample=0.9475980584116197,\n",
    "                                subsample_freq=9),\n",
    "                                cv = StratifiedKFold(5))"
   ]
  },
  {
   "cell_type": "code",
   "execution_count": 17,
   "metadata": {},
   "outputs": [
    {
     "name": "stdout",
     "output_type": "stream",
     "text": [
      "[Voting] ...................... (3 of 5) Processing sgd, total=   0.5s\n",
      "[Voting] .................... (2 of 5) Processing lgbm1, total=   5.8s\n",
      "[Voting] .................... (5 of 5) Processing lgbm2, total=   8.7s\n",
      "[Voting] ....................... (4 of 5) Processing rf, total=  16.6s\n",
      "[Voting] ...................... (1 of 5) Processing svm, total= 2.8min\n"
     ]
    }
   ],
   "source": [
    "combine = VotingClassifier(\n",
    "    estimators = \n",
    "    [\n",
    "        ('svm', clf1),\n",
    "        ('lgbm1', clf2),\n",
    "        ('sgd', clf3),\n",
    "        ('rf', clf4),\n",
    "        ('lgbm2', clf5)\n",
    "    ],\n",
    "    voting = 'soft',\n",
    "    weights = [0.20, 0.25, 0.15, 0.15, 0.25],\n",
    "    n_jobs = -1,\n",
    "    verbose = 2\n",
    ")\n",
    "combine.fit(X, y)\n",
    "y_pred = combine.predict(X_test)\n",
    "y_pred = ['Layak Minum' if i == 1 else 'Tidak Layak Minum' for i in y_pred]"
   ]
  },
  {
   "cell_type": "code",
   "execution_count": 20,
   "metadata": {},
   "outputs": [],
   "source": [
    "pd.DataFrame({\n",
    "    'id' : pd.read_csv('test.csv')['id'],\n",
    "    'DC201' : y_pred\n",
    "}).to_csv('submission_voting_2023-05-14.csv', index=False)"
   ]
  },
  {
   "cell_type": "code",
   "execution_count": 21,
   "metadata": {},
   "outputs": [
    {
     "data": {
      "text/plain": [
       "Layak Minum          11856\n",
       "Tidak Layak Minum      134\n",
       "Name: DC201, dtype: int64"
      ]
     },
     "execution_count": 21,
     "metadata": {},
     "output_type": "execute_result"
    }
   ],
   "source": [
    "pd.read_csv('submission_voting_2023-05-14.csv')['DC201'].value_counts()"
   ]
  },
  {
   "cell_type": "code",
   "execution_count": 18,
   "metadata": {},
   "outputs": [
    {
     "data": {
      "text/plain": [
       "Layak Minum          11772\n",
       "Tidak Layak Minum      218\n",
       "Name: DC201, dtype: int64"
      ]
     },
     "execution_count": 18,
     "metadata": {},
     "output_type": "execute_result"
    }
   ],
   "source": [
    "pd.read_csv('lgbm_ada2-2023-05-14submission.csv')['DC201'].value_counts()"
   ]
  },
  {
   "cell_type": "code",
   "execution_count": null,
   "metadata": {},
   "outputs": [],
   "source": []
  }
 ],
 "metadata": {
  "kernelspec": {
   "display_name": ".venv",
   "language": "python",
   "name": "python3"
  },
  "language_info": {
   "codemirror_mode": {
    "name": "ipython",
    "version": 3
   },
   "file_extension": ".py",
   "mimetype": "text/x-python",
   "name": "python",
   "nbconvert_exporter": "python",
   "pygments_lexer": "ipython3",
   "version": "3.9.6"
  },
  "orig_nbformat": 4
 },
 "nbformat": 4,
 "nbformat_minor": 2
}
